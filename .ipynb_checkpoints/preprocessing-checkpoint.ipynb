{
 "cells": [
  {
   "cell_type": "markdown",
   "id": "overall-height",
   "metadata": {},
   "source": [
    "# Data preprocessing"
   ]
  },
  {
   "cell_type": "code",
   "execution_count": 12,
   "id": "french-permission",
   "metadata": {},
   "outputs": [],
   "source": [
    "library(tidyverse) # for general data manipulation and visualization\n",
    "library(readr)     # for reading csv files\n",
    "library(jsonlite)  # for accessing web API"
   ]
  },
  {
   "cell_type": "code",
   "execution_count": 13,
   "id": "direct-singing",
   "metadata": {},
   "outputs": [],
   "source": [
    "options(repr.plot.width=5, repr.plot.height=5)"
   ]
  },
  {
   "cell_type": "markdown",
   "id": "constant-stack",
   "metadata": {},
   "source": [
    "### Data loading and inspection"
   ]
  },
  {
   "cell_type": "markdown",
   "id": "pharmaceutical-dover",
   "metadata": {},
   "source": [
    "For our purpose, I use a valuable mammalian brain size allometry [dataset](https://datadryad.org/stash/dataset/doi:10.5061/dryad.2r62k7s) avaialble on Dryad. \n",
    "\n",
    "Citation: \n",
    "\n",
    "Burger, Joseph Robert; George, Menshian Ashaki; Leadbetter, Claire; Shaikh, Farhin (2019), Data from: The allometry of brain size in mammals, Dryad, Dataset, https://doi.org/10.5061/dryad.2r62k7s"
   ]
  },
  {
   "cell_type": "code",
   "execution_count": 14,
   "id": "through-blade",
   "metadata": {},
   "outputs": [
    {
     "name": "stderr",
     "output_type": "stream",
     "text": [
      "Parsed with column specification:\n",
      "cols(\n",
      "  Binomial = col_character(),\n",
      "  order = col_character(),\n",
      "  family = col_character(),\n",
      "  genus = col_character(),\n",
      "  species = col_character(),\n",
      "  Sample_size.brain = col_character(),\n",
      "  Sample_size.body = col_character(),\n",
      "  Sex = col_character(),\n",
      "  Mean_brain_mass_g = col_double(),\n",
      "  Mean_body_mass_g = col_double(),\n",
      "  BrainReference1 = col_character(),\n",
      "  BrainReference2 = col_character(),\n",
      "  Brain.resid = col_double(),\n",
      "  T_resid = col_double()\n",
      ")\n"
     ]
    }
   ],
   "source": [
    "data<-read_csv(\"data/doi_10/BrainAllometry_Supplement_Data.csv\")"
   ]
  },
  {
   "cell_type": "markdown",
   "id": "positive-criterion",
   "metadata": {},
   "source": [
    "What's inside it? Whoa! It's pretty cool. More than 1500 species of mammals."
   ]
  },
  {
   "cell_type": "code",
   "execution_count": 15,
   "id": "democratic-lottery",
   "metadata": {},
   "outputs": [
    {
     "name": "stdout",
     "output_type": "stream",
     "text": [
      "Rows: 1,552\n",
      "Columns: 14\n",
      "$ Binomial          <chr> \"Chrysochloris_stuhlmanni\", \"Microgale_cowani\", \"Mi…\n",
      "$ order             <chr> \"Afrosoricida\", \"Afrosoricida\", \"Afrosoricida\", \"Af…\n",
      "$ family            <chr> \"Chrysochloridae\", \"Tenrecidae\", \"Tenrecidae\", \"Ten…\n",
      "$ genus             <chr> \"Chrysochloris\", \"Microgale\", \"Microgale\", \"Oryzori…\n",
      "$ species           <chr> \"stuhlmanni\", \"cowani\", \"dobsoni\", \"hova\", \"telfair…\n",
      "$ Sample_size.brain <chr> \">2,<12\", \"1\", \"1\", \"1\", \"2\", \"1\", \"1\", NA, \"1\", \"1…\n",
      "$ Sample_size.body  <chr> NA, NA, NA, NA, NA, NA, NA, NA, NA, NA, NA, NA, NA,…\n",
      "$ Sex               <chr> \"Both\", NA, NA, NA, NA, NA, NA, NA, NA, NA, NA, NA,…\n",
      "$ Mean_brain_mass_g <dbl> 1.06, 0.42, 0.56, 0.58, 0.62, 0.70, 0.79, 0.80, 0.8…\n",
      "$ Mean_body_mass_g  <dbl> 50.05, 15.20, 32.60, 44.20, 87.50, 49.00, 50.40, 69…\n",
      "$ BrainReference1   <chr> \"Boddy2012\", \"Boddy2012\", \"Boddy2012\", \"Boddy2012\",…\n",
      "$ BrainReference2   <chr> \"Stephanetal.1981; Mace.etal.1981\", \"Stephanetal.19…\n",
      "$ Brain.resid       <dbl> 0.010717303, -0.003165331, -0.126759390, -0.2106738…\n",
      "$ T_resid           <dbl> 0.172364142, 0.041995912, -0.007016914, -0.06117650…\n"
     ]
    }
   ],
   "source": [
    "glimpse(data)"
   ]
  },
  {
   "cell_type": "markdown",
   "id": "guided-dispatch",
   "metadata": {},
   "source": [
    "Simplify the data frame, rename two columns to make it easier to use."
   ]
  },
  {
   "cell_type": "code",
   "execution_count": 16,
   "id": "numerous-oliver",
   "metadata": {},
   "outputs": [],
   "source": [
    "data <- data %>% \n",
    "select(\n",
    "    order,\n",
    "    family,\n",
    "    genus,\n",
    "    species,\n",
    "    brain_mass = Mean_brain_mass_g,\n",
    "    body_mass = Mean_body_mass_g)"
   ]
  },
  {
   "cell_type": "markdown",
   "id": "promising-dublin",
   "metadata": {},
   "source": [
    "### Look up the common names from GBIF\n",
    "Unfortunately, the dataset doesn't include common names for the animals. We'll take advantage of the web service of the Global Biodiversity Information Facility (GBIF) to look them up.\n",
    "\n",
    "The API of GBIF is available [here](https://www.gbif.org/developer/summary). Given the genus and species of an animal, I first get a usage ID from GBIF, and then look up the associated vernacular name."
   ]
  },
  {
   "cell_type": "code",
   "execution_count": 17,
   "id": "hazardous-click",
   "metadata": {},
   "outputs": [],
   "source": [
    "gbif_usagekey <- function(genus, species) {\n",
    "    api_call <- paste0(\"http://api.gbif.org/v1/species/match?verbose=true&name=\", genus, \"%20\", species)\n",
    "    r <- fromJSON(api_call)\n",
    "    r$usageKey\n",
    "}\n",
    "\n",
    "gbif_usagekey_v <- Vectorize(gbif_usagekey) # vectorize it so that it can be applied to a dataframe\n",
    "\n",
    "gbif_vernacular_name <- function(genus, species) {\n",
    "    key <- gbif_usagekey(genus, species)\n",
    "    api_call <- paste0(\"http://api.gbif.org/v1/species/\", key, \"/vernacularNames\")\n",
    "    r0 <- fromJSON(api_call)\n",
    "    if (length(r0$results)==0) {\n",
    "        return(NA)\n",
    "    } else {\n",
    "        r <- r0$results %>% filter(language==\"eng\") %>% select(vernacularName)\n",
    "        res <- r[1,] # GBIF can return more than one names. For our purpose, we'll arbitrarily pick the first one.\n",
    "        print(res)\n",
    "        return(res)\n",
    "    }\n",
    "}\n",
    "\n",
    "gbif_vernacular_name_v <- Vectorize(gbif_vernacular_name) # vectorize it so that it can be applied to a dataframe"
   ]
  },
  {
   "cell_type": "markdown",
   "id": "sacred-knitting",
   "metadata": {},
   "source": [
    "Make the queries:"
   ]
  },
  {
   "cell_type": "code",
   "execution_count": 11,
   "id": "running-conditioning",
   "metadata": {},
   "outputs": [],
   "source": [
    "data2 <- data %>% mutate(common_name=gbif_vernacular_name_v(genus, species))"
   ]
  },
  {
   "cell_type": "code",
   "execution_count": null,
   "id": "removed-parts",
   "metadata": {},
   "outputs": [],
   "source": [
    "data2 %>% filter(is.na(common_name))"
   ]
  },
  {
   "cell_type": "code",
   "execution_count": null,
   "id": "organized-scale",
   "metadata": {},
   "outputs": [],
   "source": [
    "data3 <- data2 %>% filter(!is.na(common_name))"
   ]
  },
  {
   "cell_type": "code",
   "execution_count": null,
   "id": "still-therapy",
   "metadata": {},
   "outputs": [],
   "source": [
    "write.csv(data2, \"data/brain_size_allometry_with_common_names.csv\", quote=FALSE, row.names = FALSE)"
   ]
  }
 ],
 "metadata": {
  "kernelspec": {
   "display_name": "R",
   "language": "R",
   "name": "ir"
  },
  "language_info": {
   "codemirror_mode": "r",
   "file_extension": ".r",
   "mimetype": "text/x-r-source",
   "name": "R",
   "pygments_lexer": "r",
   "version": "3.6.1"
  }
 },
 "nbformat": 4,
 "nbformat_minor": 5
}
